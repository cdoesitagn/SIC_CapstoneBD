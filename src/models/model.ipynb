{
 "cells": [
  {
   "cell_type": "code",
   "execution_count": 1,
   "metadata": {},
   "outputs": [],
   "source": [
    "import pandas as pd\n",
    "import ast\n",
    "import numpy as np\n",
    "import matplotlib.pyplot as plt\n",
    "import string\n",
    "from underthesea import word_tokenize\n",
    "from gensim.models import FastText\n",
    "from deep_translator import GoogleTranslator\n",
    "import random\n",
    "import os\n",
    "import re"
   ]
  },
  {
   "cell_type": "code",
   "execution_count": 2,
   "metadata": {},
   "outputs": [
    {
     "data": {
      "text/html": [
       "<div>\n",
       "<style scoped>\n",
       "    .dataframe tbody tr th:only-of-type {\n",
       "        vertical-align: middle;\n",
       "    }\n",
       "\n",
       "    .dataframe tbody tr th {\n",
       "        vertical-align: top;\n",
       "    }\n",
       "\n",
       "    .dataframe thead th {\n",
       "        text-align: right;\n",
       "    }\n",
       "</style>\n",
       "<table border=\"1\" class=\"dataframe\">\n",
       "  <thead>\n",
       "    <tr style=\"text-align: right;\">\n",
       "      <th></th>\n",
       "      <th>Date</th>\n",
       "      <th>Words</th>\n",
       "      <th>Near</th>\n",
       "      <th>Mid</th>\n",
       "      <th>Far</th>\n",
       "    </tr>\n",
       "  </thead>\n",
       "  <tbody>\n",
       "    <tr>\n",
       "      <th>0</th>\n",
       "      <td>2022-01-04</td>\n",
       "      <td>['Satoshi Nakamoto', 'khai thác', 'khối', 'Khố...</td>\n",
       "      <td>0.0</td>\n",
       "      <td>0.0</td>\n",
       "      <td>1.0</td>\n",
       "    </tr>\n",
       "    <tr>\n",
       "      <th>1</th>\n",
       "      <td>2022-01-04</td>\n",
       "      <td>['Chiều', 'Quốc hội', 'thảo luận', 'tổ', 'dự t...</td>\n",
       "      <td>0.0</td>\n",
       "      <td>0.0</td>\n",
       "      <td>1.0</td>\n",
       "    </tr>\n",
       "    <tr>\n",
       "      <th>2</th>\n",
       "      <td>2022-01-04</td>\n",
       "      <td>['đồng bạc', 'xanh', 'JPY mức', 'lợi suất', 'đ...</td>\n",
       "      <td>0.0</td>\n",
       "      <td>0.0</td>\n",
       "      <td>1.0</td>\n",
       "    </tr>\n",
       "    <tr>\n",
       "      <th>3</th>\n",
       "      <td>2022-01-04</td>\n",
       "      <td>['Phiên', 'giao dịch', 'đầu', 'chứng kiến', 's...</td>\n",
       "      <td>0.0</td>\n",
       "      <td>0.0</td>\n",
       "      <td>1.0</td>\n",
       "    </tr>\n",
       "    <tr>\n",
       "      <th>4</th>\n",
       "      <td>2022-01-04</td>\n",
       "      <td>['Phân phối', 'bảo hiểm', 'nhân thọ', 'kênh', ...</td>\n",
       "      <td>0.0</td>\n",
       "      <td>0.0</td>\n",
       "      <td>1.0</td>\n",
       "    </tr>\n",
       "  </tbody>\n",
       "</table>\n",
       "</div>"
      ],
      "text/plain": [
       "         Date                                              Words  Near  Mid  \\\n",
       "0  2022-01-04  ['Satoshi Nakamoto', 'khai thác', 'khối', 'Khố...   0.0  0.0   \n",
       "1  2022-01-04  ['Chiều', 'Quốc hội', 'thảo luận', 'tổ', 'dự t...   0.0  0.0   \n",
       "2  2022-01-04  ['đồng bạc', 'xanh', 'JPY mức', 'lợi suất', 'đ...   0.0  0.0   \n",
       "3  2022-01-04  ['Phiên', 'giao dịch', 'đầu', 'chứng kiến', 's...   0.0  0.0   \n",
       "4  2022-01-04  ['Phân phối', 'bảo hiểm', 'nhân thọ', 'kênh', ...   0.0  0.0   \n",
       "\n",
       "   Far  \n",
       "0  1.0  \n",
       "1  1.0  \n",
       "2  1.0  \n",
       "3  1.0  \n",
       "4  1.0  "
      ]
     },
     "execution_count": 2,
     "metadata": {},
     "output_type": "execute_result"
    }
   ],
   "source": [
    "df = pd.read_csv('..\\\\..\\\\data\\\\processed\\\\data_nganhang.csv')\n",
    "df.head()"
   ]
  },
  {
   "cell_type": "code",
   "execution_count": 3,
   "metadata": {},
   "outputs": [],
   "source": [
    "df = df.groupby('Date')[['Near', 'Mid', 'Far']].first()\n",
    "df = df.reset_index()"
   ]
  },
  {
   "cell_type": "code",
   "execution_count": 4,
   "metadata": {},
   "outputs": [
    {
     "data": {
      "text/html": [
       "<div>\n",
       "<style scoped>\n",
       "    .dataframe tbody tr th:only-of-type {\n",
       "        vertical-align: middle;\n",
       "    }\n",
       "\n",
       "    .dataframe tbody tr th {\n",
       "        vertical-align: top;\n",
       "    }\n",
       "\n",
       "    .dataframe thead th {\n",
       "        text-align: right;\n",
       "    }\n",
       "</style>\n",
       "<table border=\"1\" class=\"dataframe\">\n",
       "  <thead>\n",
       "    <tr style=\"text-align: right;\">\n",
       "      <th></th>\n",
       "      <th>Date</th>\n",
       "      <th>Near</th>\n",
       "      <th>Mid</th>\n",
       "      <th>Far</th>\n",
       "    </tr>\n",
       "  </thead>\n",
       "  <tbody>\n",
       "    <tr>\n",
       "      <th>0</th>\n",
       "      <td>2022-01-04</td>\n",
       "      <td>0.0</td>\n",
       "      <td>0.0</td>\n",
       "      <td>1.0</td>\n",
       "    </tr>\n",
       "    <tr>\n",
       "      <th>1</th>\n",
       "      <td>2022-01-05</td>\n",
       "      <td>0.0</td>\n",
       "      <td>0.0</td>\n",
       "      <td>1.0</td>\n",
       "    </tr>\n",
       "    <tr>\n",
       "      <th>2</th>\n",
       "      <td>2022-01-06</td>\n",
       "      <td>0.0</td>\n",
       "      <td>0.0</td>\n",
       "      <td>1.0</td>\n",
       "    </tr>\n",
       "    <tr>\n",
       "      <th>3</th>\n",
       "      <td>2022-01-07</td>\n",
       "      <td>0.0</td>\n",
       "      <td>1.0</td>\n",
       "      <td>1.0</td>\n",
       "    </tr>\n",
       "    <tr>\n",
       "      <th>4</th>\n",
       "      <td>2022-01-10</td>\n",
       "      <td>0.0</td>\n",
       "      <td>1.0</td>\n",
       "      <td>1.0</td>\n",
       "    </tr>\n",
       "  </tbody>\n",
       "</table>\n",
       "</div>"
      ],
      "text/plain": [
       "         Date  Near  Mid  Far\n",
       "0  2022-01-04   0.0  0.0  1.0\n",
       "1  2022-01-05   0.0  0.0  1.0\n",
       "2  2022-01-06   0.0  0.0  1.0\n",
       "3  2022-01-07   0.0  1.0  1.0\n",
       "4  2022-01-10   0.0  1.0  1.0"
      ]
     },
     "execution_count": 4,
     "metadata": {},
     "output_type": "execute_result"
    }
   ],
   "source": [
    "df.head()"
   ]
  },
  {
   "cell_type": "code",
   "execution_count": 5,
   "metadata": {},
   "outputs": [
    {
     "data": {
      "text/html": [
       "<div>\n",
       "<style scoped>\n",
       "    .dataframe tbody tr th:only-of-type {\n",
       "        vertical-align: middle;\n",
       "    }\n",
       "\n",
       "    .dataframe tbody tr th {\n",
       "        vertical-align: top;\n",
       "    }\n",
       "\n",
       "    .dataframe thead th {\n",
       "        text-align: right;\n",
       "    }\n",
       "</style>\n",
       "<table border=\"1\" class=\"dataframe\">\n",
       "  <thead>\n",
       "    <tr style=\"text-align: right;\">\n",
       "      <th></th>\n",
       "      <th>Unnamed: 0</th>\n",
       "      <th>Title</th>\n",
       "      <th>Text</th>\n",
       "      <th>Key Word</th>\n",
       "      <th>Published_Date</th>\n",
       "      <th>Source</th>\n",
       "    </tr>\n",
       "  </thead>\n",
       "  <tbody>\n",
       "    <tr>\n",
       "      <th>0</th>\n",
       "      <td>0</td>\n",
       "      <td>Từ hôm nay (8/8), mua vàng SJC phải mất 3 - 5 ...</td>\n",
       "      <td>Ảnh minh họa\\n\\nNgân hàng TMCP Ngoại Thương Vi...</td>\n",
       "      <td>triệu, từ, miếng, khách, mua, giao, để, tất, n...</td>\n",
       "      <td>2024-08-08 11:48:00</td>\n",
       "      <td>https://cafef.vn</td>\n",
       "    </tr>\n",
       "    <tr>\n",
       "      <th>1</th>\n",
       "      <td>1</td>\n",
       "      <td>Hai ngân hàng bất ngờ quay đầu giảm lãi suất t...</td>\n",
       "      <td>Ngân hàng SeABank vừa bất ngờ giảm đồng loạt 0...</td>\n",
       "      <td>ngờ, kỳ, tiết, tháng, kiệm, giảm, đầu, suất, h...</td>\n",
       "      <td>2024-08-08 06:38:00</td>\n",
       "      <td>https://cafef.vn</td>\n",
       "    </tr>\n",
       "  </tbody>\n",
       "</table>\n",
       "</div>"
      ],
      "text/plain": [
       "   Unnamed: 0                                              Title  \\\n",
       "0           0  Từ hôm nay (8/8), mua vàng SJC phải mất 3 - 5 ...   \n",
       "1           1  Hai ngân hàng bất ngờ quay đầu giảm lãi suất t...   \n",
       "\n",
       "                                                Text  \\\n",
       "0  Ảnh minh họa\\n\\nNgân hàng TMCP Ngoại Thương Vi...   \n",
       "1  Ngân hàng SeABank vừa bất ngờ giảm đồng loạt 0...   \n",
       "\n",
       "                                            Key Word       Published_Date  \\\n",
       "0  triệu, từ, miếng, khách, mua, giao, để, tất, n...  2024-08-08 11:48:00   \n",
       "1  ngờ, kỳ, tiết, tháng, kiệm, giảm, đầu, suất, h...  2024-08-08 06:38:00   \n",
       "\n",
       "             Source  \n",
       "0  https://cafef.vn  \n",
       "1  https://cafef.vn  "
      ]
     },
     "execution_count": 5,
     "metadata": {},
     "output_type": "execute_result"
    }
   ],
   "source": [
    "data_dirty = pd.read_csv('..\\\\..\\\\data\\\\raw\\\\tai_chinh_ngan_hang.csv').dropna()\n",
    "data_dirty.head(2)"
   ]
  },
  {
   "cell_type": "code",
   "execution_count": 6,
   "metadata": {},
   "outputs": [
    {
     "data": {
      "text/html": [
       "<div>\n",
       "<style scoped>\n",
       "    .dataframe tbody tr th:only-of-type {\n",
       "        vertical-align: middle;\n",
       "    }\n",
       "\n",
       "    .dataframe tbody tr th {\n",
       "        vertical-align: top;\n",
       "    }\n",
       "\n",
       "    .dataframe thead th {\n",
       "        text-align: right;\n",
       "    }\n",
       "</style>\n",
       "<table border=\"1\" class=\"dataframe\">\n",
       "  <thead>\n",
       "    <tr style=\"text-align: right;\">\n",
       "      <th></th>\n",
       "      <th>Date</th>\n",
       "      <th>Text</th>\n",
       "    </tr>\n",
       "  </thead>\n",
       "  <tbody>\n",
       "    <tr>\n",
       "      <th>0</th>\n",
       "      <td>2022-01-01</td>\n",
       "      <td>Ngân hàng Bản Việt vừa phát đi thông tin cho b...</td>\n",
       "    </tr>\n",
       "    <tr>\n",
       "      <th>1</th>\n",
       "      <td>2022-01-02</td>\n",
       "      <td>Trong báo cáo Chiến lược đầu tư năm 2022 mới c...</td>\n",
       "    </tr>\n",
       "    <tr>\n",
       "      <th>2</th>\n",
       "      <td>2022-01-03</td>\n",
       "      <td>Hầu hết các tiền tệ Châu Á kết thúc năm 2021 v...</td>\n",
       "    </tr>\n",
       "    <tr>\n",
       "      <th>3</th>\n",
       "      <td>2022-01-04</td>\n",
       "      <td>Vào ngày 3 tháng 1 năm 2009, Satoshi Nakamoto ...</td>\n",
       "    </tr>\n",
       "    <tr>\n",
       "      <th>4</th>\n",
       "      <td>2022-01-05</td>\n",
       "      <td>Ngân hàng Nhà nước vừa công bố kết quả điều tr...</td>\n",
       "    </tr>\n",
       "  </tbody>\n",
       "</table>\n",
       "</div>"
      ],
      "text/plain": [
       "         Date                                               Text\n",
       "0  2022-01-01  Ngân hàng Bản Việt vừa phát đi thông tin cho b...\n",
       "1  2022-01-02  Trong báo cáo Chiến lược đầu tư năm 2022 mới c...\n",
       "2  2022-01-03  Hầu hết các tiền tệ Châu Á kết thúc năm 2021 v...\n",
       "3  2022-01-04  Vào ngày 3 tháng 1 năm 2009, Satoshi Nakamoto ...\n",
       "4  2022-01-05  Ngân hàng Nhà nước vừa công bố kết quả điều tr..."
      ]
     },
     "execution_count": 6,
     "metadata": {},
     "output_type": "execute_result"
    }
   ],
   "source": [
    "data_dirty['Date'] = pd.to_datetime(data_dirty['Published_Date']).dt.date\n",
    "data_gr = data_dirty.groupby('Date')['Text'].apply(''.join).reset_index()\n",
    "data_gr.head()"
   ]
  },
  {
   "cell_type": "code",
   "execution_count": 7,
   "metadata": {},
   "outputs": [
    {
     "data": {
      "text/plain": [
       "(647, 5)"
      ]
     },
     "execution_count": 7,
     "metadata": {},
     "output_type": "execute_result"
    }
   ],
   "source": [
    "df['Date'] = pd.to_datetime(df['Date'])\n",
    "data_gr['Date'] = pd.to_datetime(data_gr['Date'])\n",
    "data = df.merge(data_gr[['Date', 'Text']], on='Date')\n",
    "data.shape"
   ]
  },
  {
   "cell_type": "code",
   "execution_count": 8,
   "metadata": {},
   "outputs": [
    {
     "data": {
      "text/html": [
       "<div>\n",
       "<style scoped>\n",
       "    .dataframe tbody tr th:only-of-type {\n",
       "        vertical-align: middle;\n",
       "    }\n",
       "\n",
       "    .dataframe tbody tr th {\n",
       "        vertical-align: top;\n",
       "    }\n",
       "\n",
       "    .dataframe thead th {\n",
       "        text-align: right;\n",
       "    }\n",
       "</style>\n",
       "<table border=\"1\" class=\"dataframe\">\n",
       "  <thead>\n",
       "    <tr style=\"text-align: right;\">\n",
       "      <th></th>\n",
       "      <th>Date</th>\n",
       "      <th>Near</th>\n",
       "      <th>Mid</th>\n",
       "      <th>Far</th>\n",
       "      <th>Text</th>\n",
       "    </tr>\n",
       "  </thead>\n",
       "  <tbody>\n",
       "    <tr>\n",
       "      <th>0</th>\n",
       "      <td>2022-01-04</td>\n",
       "      <td>0.0</td>\n",
       "      <td>0.0</td>\n",
       "      <td>1.0</td>\n",
       "      <td>Vào ngày 3 tháng 1 năm 2009, Satoshi Nakamoto ...</td>\n",
       "    </tr>\n",
       "    <tr>\n",
       "      <th>1</th>\n",
       "      <td>2022-01-05</td>\n",
       "      <td>0.0</td>\n",
       "      <td>0.0</td>\n",
       "      <td>1.0</td>\n",
       "      <td>Ngân hàng Nhà nước vừa công bố kết quả điều tr...</td>\n",
       "    </tr>\n",
       "  </tbody>\n",
       "</table>\n",
       "</div>"
      ],
      "text/plain": [
       "        Date  Near  Mid  Far  \\\n",
       "0 2022-01-04   0.0  0.0  1.0   \n",
       "1 2022-01-05   0.0  0.0  1.0   \n",
       "\n",
       "                                                Text  \n",
       "0  Vào ngày 3 tháng 1 năm 2009, Satoshi Nakamoto ...  \n",
       "1  Ngân hàng Nhà nước vừa công bố kết quả điều tr...  "
      ]
     },
     "execution_count": 8,
     "metadata": {},
     "output_type": "execute_result"
    }
   ],
   "source": [
    "data.head(2)"
   ]
  },
  {
   "cell_type": "code",
   "execution_count": 9,
   "metadata": {},
   "outputs": [],
   "source": [
    "data['Score'] = data['Near'] + data['Mid'] * 2 + data['Far'] * 3\n",
    "\n",
    "def labeled(score):\n",
    "    if score < 2:\n",
    "        return 'Low'\n",
    "    if score < 5:\n",
    "        return 'Mid'\n",
    "    return \"High\"\n",
    "\n",
    "data['Potential'] = data['Score'].apply(labeled)"
   ]
  },
  {
   "cell_type": "code",
   "execution_count": 10,
   "metadata": {},
   "outputs": [
    {
     "data": {
      "text/html": [
       "<div>\n",
       "<style scoped>\n",
       "    .dataframe tbody tr th:only-of-type {\n",
       "        vertical-align: middle;\n",
       "    }\n",
       "\n",
       "    .dataframe tbody tr th {\n",
       "        vertical-align: top;\n",
       "    }\n",
       "\n",
       "    .dataframe thead th {\n",
       "        text-align: right;\n",
       "    }\n",
       "</style>\n",
       "<table border=\"1\" class=\"dataframe\">\n",
       "  <thead>\n",
       "    <tr style=\"text-align: right;\">\n",
       "      <th></th>\n",
       "      <th>Date</th>\n",
       "      <th>Near</th>\n",
       "      <th>Mid</th>\n",
       "      <th>Far</th>\n",
       "      <th>Text</th>\n",
       "      <th>Score</th>\n",
       "      <th>Potential</th>\n",
       "    </tr>\n",
       "  </thead>\n",
       "  <tbody>\n",
       "    <tr>\n",
       "      <th>0</th>\n",
       "      <td>2022-01-04</td>\n",
       "      <td>0.0</td>\n",
       "      <td>0.0</td>\n",
       "      <td>1.0</td>\n",
       "      <td>Vào ngày 3 tháng 1 năm 2009, Satoshi Nakamoto ...</td>\n",
       "      <td>3.0</td>\n",
       "      <td>Mid</td>\n",
       "    </tr>\n",
       "    <tr>\n",
       "      <th>1</th>\n",
       "      <td>2022-01-05</td>\n",
       "      <td>0.0</td>\n",
       "      <td>0.0</td>\n",
       "      <td>1.0</td>\n",
       "      <td>Ngân hàng Nhà nước vừa công bố kết quả điều tr...</td>\n",
       "      <td>3.0</td>\n",
       "      <td>Mid</td>\n",
       "    </tr>\n",
       "  </tbody>\n",
       "</table>\n",
       "</div>"
      ],
      "text/plain": [
       "        Date  Near  Mid  Far  \\\n",
       "0 2022-01-04   0.0  0.0  1.0   \n",
       "1 2022-01-05   0.0  0.0  1.0   \n",
       "\n",
       "                                                Text  Score Potential  \n",
       "0  Vào ngày 3 tháng 1 năm 2009, Satoshi Nakamoto ...    3.0       Mid  \n",
       "1  Ngân hàng Nhà nước vừa công bố kết quả điều tr...    3.0       Mid  "
      ]
     },
     "execution_count": 10,
     "metadata": {},
     "output_type": "execute_result"
    }
   ],
   "source": [
    "data.head(2)"
   ]
  },
  {
   "cell_type": "markdown",
   "metadata": {},
   "source": [
    "# Data Augmentation"
   ]
  },
  {
   "cell_type": "code",
   "execution_count": 11,
   "metadata": {},
   "outputs": [],
   "source": [
    "\n",
    "from concurrent.futures import ThreadPoolExecutor\n",
    "import time\n",
    "\n",
    "# Dịch ngược với Deep Translator\n",
    "def back_translation_deep_translator(doc):\n",
    "    translator = GoogleTranslator(source='auto', target='en')\n",
    "    back_translator = GoogleTranslator(source='en', target='vi')\n",
    "\n",
    "    def translate_text(text, max_retries=10, delay=1):\n",
    "        for attempt in range(max_retries):\n",
    "            try:\n",
    "                translated = translator.translate(text)\n",
    "                back_translated = back_translator.translate(translated)\n",
    "                return back_translated\n",
    "            except Exception as e:\n",
    "                time.sleep(delay)\n",
    "                \n",
    "        print('Không thể dịch')\n",
    "        return text\n",
    "\n",
    "    chunk_size = 1000\n",
    "    if len(doc) > chunk_size:\n",
    "        chunks = [doc[i:i + chunk_size] for i in range(0, len(doc), chunk_size)]\n",
    "        results = [translate_text(chunk) for chunk in chunks]\n",
    "        return ' '.join(results)\n",
    "    else:\n",
    "        return translate_text(doc)\n",
    "\n",
    "\n",
    "# Thay thế từ đồng nghĩa\n",
    "def synonym_replacement(doc, synonym_dict):\n",
    "    tokens = word_tokenize(doc)\n",
    "    new_tokens = []\n",
    "    for word in tokens:\n",
    "        if word.lower() in synonym_dict:\n",
    "            if synonym_dict[word.lower()]:\n",
    "                new_tokens.append(random.choice(list(synonym_dict[word.lower()])))\n",
    "            else:\n",
    "                new_tokens.append(word.lower())\n",
    "        else:\n",
    "            new_tokens.append(word)\n",
    "    return ' '.join(new_tokens)\n",
    "\n",
    "\n",
    "# Tăng cường dữ liệu\n",
    "def augmentation_text(data, synonym_dict, num_new_texts, max_workers = 10):\n",
    "    augmented_docs = []\n",
    "    index_labels = []\n",
    "    \n",
    "    \n",
    "    for label in data['Potential'].unique():\n",
    "        label_data = data[data['Potential'] == label]\n",
    "        \n",
    "        def process_document(idx):\n",
    "            doc = data.loc[idx, 'Text']\n",
    "            new_doc = synonym_replacement(doc, synonym_dict)\n",
    "            #new_doc = back_translation_deep_translator(new_doc)\n",
    "            return new_doc\n",
    "        \n",
    "        indices = [random.choice(label_data.index) for _ in range(num_new_texts)]\n",
    "        index_labels.append(indices)\n",
    "        with ThreadPoolExecutor(max_workers=max_workers) as executor:\n",
    "            results = list(executor.map(process_document, indices))\n",
    "        \n",
    "        augmented_docs.extend(results)\n",
    "    \n",
    "    return augmented_docs, index_labels\n"
   ]
  },
  {
   "cell_type": "code",
   "execution_count": 12,
   "metadata": {},
   "outputs": [],
   "source": [
    "# tạo thư viện từ đồng nghĩa\n",
    "def create_synonyms_dict(directory):\n",
    "    synonyms_dict = {}\n",
    "\n",
    "    for filename in os.listdir(directory):\n",
    "        if filename.endswith('.csv'):\n",
    "            file_path = os.path.join(directory, filename)\n",
    "            try:\n",
    "                with open(file_path, 'r', encoding='utf-8') as file:\n",
    "                    for line in file:\n",
    "                        line = line.strip()\n",
    "                        if line:  \n",
    "                            synonyms = line.split(',') \n",
    "\n",
    "                            if len(synonyms) == 1:\n",
    "                                continue\n",
    "\n",
    "                            for word in synonyms:\n",
    "                                word = word.strip()\n",
    "                                if word:\n",
    "                                    if word not in synonyms_dict:\n",
    "                                        synonyms_dict[word] = set()\n",
    "                                    synonyms_dict[word].update(synonym.strip() for synonym in synonyms if synonym.strip() != word)\n",
    "            except Exception as e:\n",
    "                print(f\"Lỗi {e}\")\n",
    "\n",
    "    return synonyms_dict"
   ]
  },
  {
   "cell_type": "code",
   "execution_count": 14,
   "metadata": {},
   "outputs": [],
   "source": [
    "\n",
    "\n",
    "translator = GoogleTranslator()\n",
    "directory = '..\\\\..\\\\vi-wordnet'\n",
    "synonyms_dict = create_synonyms_dict(directory)\n",
    "num_new_texts = 1000\n",
    "max_worker = 50\n",
    "new_acticles = augmentation_text(data, synonyms_dict, num_new_texts=num_new_texts, max_workers=max_worker)\n"
   ]
  },
  {
   "cell_type": "code",
   "execution_count": 15,
   "metadata": {},
   "outputs": [],
   "source": [
    "documents = list(data['Text'].values)\n",
    "documents.extend(new_acticles[0])"
   ]
  },
  {
   "cell_type": "code",
   "execution_count": 47,
   "metadata": {},
   "outputs": [],
   "source": [
    "flat_array = np.array(new_acticles[1]).flatten()\n",
    "labels_potential = list(data['Potential'].values)\n",
    "labels_potential.extend(data.loc[flat_array, 'Potential'])"
   ]
  },
  {
   "cell_type": "code",
   "execution_count": 17,
   "metadata": {},
   "outputs": [],
   "source": [
    "labels_near = list(data['Near'].values)\n",
    "labels_near.extend(data.loc[flat_array, 'Near'])"
   ]
  },
  {
   "cell_type": "code",
   "execution_count": 18,
   "metadata": {},
   "outputs": [],
   "source": [
    "labels_mid = list(data['Mid'].values)\n",
    "labels_mid.extend(data.loc[flat_array, 'Mid'])"
   ]
  },
  {
   "cell_type": "code",
   "execution_count": 19,
   "metadata": {},
   "outputs": [],
   "source": [
    "labels_far = list(data['Far'].values)\n",
    "labels_far.extend(data.loc[flat_array, 'Far'])"
   ]
  },
  {
   "cell_type": "code",
   "execution_count": 26,
   "metadata": {},
   "outputs": [
    {
     "data": {
      "text/plain": [
       "<BarContainer object of 2 artists>"
      ]
     },
     "execution_count": 26,
     "metadata": {},
     "output_type": "execute_result"
    },
    {
     "data": {
      "image/png": "[encoded data removed]",
      "text/plain": [
       "<Figure size 640x480 with 1 Axes>"
      ]
     },
     "metadata": {},
     "output_type": "display_data"
    }
   ],
   "source": [
    "plt.bar(np.unique(labels_near, return_counts=True)[0], np.unique(labels_near, return_counts=True)[1])"
   ]
  },
  {
   "cell_type": "markdown",
   "metadata": {},
   "source": [
    "# Processing"
   ]
  },
  {
   "cell_type": "code",
   "execution_count": 21,
   "metadata": {},
   "outputs": [],
   "source": [
    "def load_stopwords(filepath):\n",
    "    with open(filepath, \"r\", encoding=\"utf-8\") as file:\n",
    "        return set(file.read().splitlines())\n",
    "\n",
    "vietnamese_stopwords = load_stopwords(\"..\\\\..\\\\data\\\\raw\\\\vietnamese-stopwords.txt\")\n",
    "\n",
    "def remove_punctuation(text):\n",
    "    return text.translate(str.maketrans(' ', ' ', string.punctuation))\n",
    "\n",
    "def delete_stopwords_and_clean(doc):\n",
    "    \n",
    "    tokens = word_tokenize(remove_punctuation(doc))\n",
    "    filtered_tokens = [word.lower() for word in tokens if word.lower() not in vietnamese_stopwords and not word.lower().startswith('http')]\n",
    "    \n",
    "    # Loại bỏ ký tự đặc biệt và số \n",
    "    processed_words = [re.sub(r'[^\\w\\s]', ' ', word).strip() for word in filtered_tokens if not re.search(r'\\d', word)]\n",
    "    # Loại bỏ '\\t', '\\n', ...\n",
    "    processed_words = [re.sub(r'\\s+', ' ', word).strip() for word in processed_words if word]\n",
    "\n",
    "    seen = set()\n",
    "    unique_words = []\n",
    "    for word in processed_words:\n",
    "        if word not in seen and word != ' ':\n",
    "            unique_words.append(word)\n",
    "            seen.add(word)\n",
    "\n",
    "    return unique_words\n",
    "\n"
   ]
  },
  {
   "cell_type": "code",
   "execution_count": 22,
   "metadata": {},
   "outputs": [],
   "source": [
    "processed_docs = [delete_stopwords_and_clean(doc) for doc in documents]"
   ]
  },
  {
   "cell_type": "code",
   "execution_count": 29,
   "metadata": {},
   "outputs": [
    {
     "data": {
      "text/html": [
       "<div>\n",
       "<style scoped>\n",
       "    .dataframe tbody tr th:only-of-type {\n",
       "        vertical-align: middle;\n",
       "    }\n",
       "\n",
       "    .dataframe tbody tr th {\n",
       "        vertical-align: top;\n",
       "    }\n",
       "\n",
       "    .dataframe thead th {\n",
       "        text-align: right;\n",
       "    }\n",
       "</style>\n",
       "<table border=\"1\" class=\"dataframe\">\n",
       "  <thead>\n",
       "    <tr style=\"text-align: right;\">\n",
       "      <th></th>\n",
       "      <th>Text</th>\n",
       "      <th>Words</th>\n",
       "      <th>Potential</th>\n",
       "      <th>Near</th>\n",
       "      <th>Mid</th>\n",
       "      <th>Far</th>\n",
       "    </tr>\n",
       "  </thead>\n",
       "  <tbody>\n",
       "    <tr>\n",
       "      <th>0</th>\n",
       "      <td>Vào ngày 3 tháng 1 năm 2009, Satoshi Nakamoto ...</td>\n",
       "      <td>[satoshi nakamoto, khai thác, khối, khối genes...</td>\n",
       "      <td>Mid</td>\n",
       "      <td>0.0</td>\n",
       "      <td>0.0</td>\n",
       "      <td>1.0</td>\n",
       "    </tr>\n",
       "    <tr>\n",
       "      <th>1</th>\n",
       "      <td>Ngân hàng Nhà nước vừa công bố kết quả điều tr...</td>\n",
       "      <td>[ngân hàng, nhà nước, công bố, kết quả, điều t...</td>\n",
       "      <td>Mid</td>\n",
       "      <td>0.0</td>\n",
       "      <td>0.0</td>\n",
       "      <td>1.0</td>\n",
       "    </tr>\n",
       "  </tbody>\n",
       "</table>\n",
       "</div>"
      ],
      "text/plain": [
       "                                                Text  \\\n",
       "0  Vào ngày 3 tháng 1 năm 2009, Satoshi Nakamoto ...   \n",
       "1  Ngân hàng Nhà nước vừa công bố kết quả điều tr...   \n",
       "\n",
       "                                               Words Potential  Near  Mid  Far  \n",
       "0  [satoshi nakamoto, khai thác, khối, khối genes...       Mid   0.0  0.0  1.0  \n",
       "1  [ngân hàng, nhà nước, công bố, kết quả, điều t...       Mid   0.0  0.0  1.0  "
      ]
     },
     "execution_count": 29,
     "metadata": {},
     "output_type": "execute_result"
    }
   ],
   "source": [
    "df = pd.DataFrame({'Text': documents, 'Words': processed_docs, 'Potential': labels_potential, 'Near' : labels_near, 'Mid' : labels_mid, 'Far': labels_far})\n",
    "df.head(2)"
   ]
  },
  {
   "cell_type": "code",
   "execution_count": 30,
   "metadata": {},
   "outputs": [],
   "source": [
    "df.to_csv('augmentation_data.csv')"
   ]
  },
  {
   "cell_type": "code",
   "execution_count": 23,
   "metadata": {},
   "outputs": [],
   "source": [
    "model_fast = FastText(sentences=processed_docs, vector_size=50, window=5, min_count=1, workers=4)\n",
    "\n",
    "def get_document_vector1(doc, model):\n",
    "    vectors = [model.wv[word] for word in doc if word in model.wv]\n",
    "    if len(vectors) == 0:\n",
    "        return np.zeros(model.vector_size)\n",
    "    return np.mean(vectors, axis=0)\n",
    "\n",
    "document_vectors_fast = np.array([get_document_vector1(doc, model_fast) for doc in processed_docs])"
   ]
  },
  {
   "cell_type": "markdown",
   "metadata": {},
   "source": [
    "# Model"
   ]
  },
  {
   "cell_type": "code",
   "execution_count": 42,
   "metadata": {},
   "outputs": [],
   "source": [
    "from sklearn.preprocessing import LabelEncoder\n",
    "from tensorflow.keras.utils import to_categorical\n",
    "from sklearn.model_selection import train_test_split\n",
    "import numpy as np\n",
    "from tensorflow.keras.models import Sequential\n",
    "from tensorflow.keras.layers import LSTM, Bidirectional, Dense, Embedding, Dropout\n",
    "from tensorflow.keras.preprocessing.text import Tokenizer\n",
    "from tensorflow.keras.preprocessing.sequence import pad_sequences\n",
    "from tensorflow.keras.regularizers import l2\n",
    "from sklearn.metrics import accuracy_score, f1_score, classification_report\n",
    "\n"
   ]
  },
  {
   "cell_type": "code",
   "execution_count": 52,
   "metadata": {},
   "outputs": [],
   "source": [
    "def train_bilstm_model(labels, processed_docs, model_fast, max_length=50, batch_size=64, epochs=20):\n",
    "    # Encode labels for multi-class classification\n",
    "    label_encoder = LabelEncoder()\n",
    "    y_encoded = label_encoder.fit_transform(labels)\n",
    "    num_classes = len(label_encoder.classes_) \n",
    "    y = to_categorical(y_encoded, num_classes=num_classes) \n",
    "\n",
    "    X_train, X_test, y_train, y_test = train_test_split(processed_docs, y, test_size=0.2, random_state=42)\n",
    "\n",
    "    \n",
    "    tokenizer = Tokenizer()\n",
    "    tokenizer.fit_on_texts(X_train)\n",
    "\n",
    "    vocab_size = len(tokenizer.word_index) + 1\n",
    "\n",
    "    X_train_seq = tokenizer.texts_to_sequences(X_train)\n",
    "    X_test_seq = tokenizer.texts_to_sequences(X_test)\n",
    "\n",
    "    X_train_pad = pad_sequences(X_train_seq, maxlen=max_length)\n",
    "    X_test_pad = pad_sequences(X_test_seq, maxlen=max_length)\n",
    "\n",
    "    \n",
    "    embedding_dim = model_fast.vector_size\n",
    "    embedding_matrix = np.zeros((vocab_size, embedding_dim))\n",
    "\n",
    "    for word, i in tokenizer.word_index.items():\n",
    "        if word in model_fast.wv:\n",
    "            embedding_matrix[i] = model_fast.wv[word]\n",
    "        else:\n",
    "            embedding_matrix[i] = np.zeros(embedding_dim)\n",
    "\n",
    "    model_bilstm = Sequential()\n",
    "    model_bilstm.add(Embedding(input_dim=vocab_size, \n",
    "                        output_dim=embedding_dim, \n",
    "                        weights=[embedding_matrix], \n",
    "                        input_length=max_length, \n",
    "                        trainable=False))\n",
    "\n",
    "    model_bilstm.add(Bidirectional(LSTM(24, return_sequences=False, kernel_regularizer=l2(0.02))))\n",
    "    model_bilstm.add(Dropout(0.2)) \n",
    "    model_bilstm.add(Dense(num_classes, activation='softmax', kernel_regularizer=l2(0.02))) \n",
    "\n",
    "    model_bilstm.compile(optimizer='adam', loss='categorical_crossentropy', metrics=['accuracy'])\n",
    "\n",
    "    model_bilstm.fit(X_train_pad, y_train, epochs=epochs, batch_size=batch_size, validation_data=(X_test_pad, y_test))\n",
    "\n",
    "    y_pred = model_bilstm.predict(X_test_pad)\n",
    "    y_pred_classes = np.argmax(y_pred, axis=1)  \n",
    "    y_true = np.argmax(y_test, axis=1) \n",
    "\n",
    "    print(classification_report(y_true, y_pred_classes))\n",
    "\n",
    "    return model_bilstm"
   ]
  },
  {
   "cell_type": "code",
   "execution_count": 53,
   "metadata": {},
   "outputs": [
    {
     "name": "stdout",
     "output_type": "stream",
     "text": [
      "Epoch 1/20\n",
      "46/46 [==============================] - 4s 33ms/step - loss: 2.8213 - accuracy: 0.4933 - val_loss: 2.2639 - val_accuracy: 0.5192\n",
      "Epoch 2/20\n",
      "46/46 [==============================] - 1s 19ms/step - loss: 1.8942 - accuracy: 0.5423 - val_loss: 1.5800 - val_accuracy: 0.5329\n",
      "Epoch 3/20\n",
      "46/46 [==============================] - 1s 19ms/step - loss: 1.3643 - accuracy: 0.5711 - val_loss: 1.2012 - val_accuracy: 0.5493\n",
      "Epoch 4/20\n",
      "46/46 [==============================] - 1s 20ms/step - loss: 1.0725 - accuracy: 0.5931 - val_loss: 0.9915 - val_accuracy: 0.5712\n",
      "Epoch 5/20\n",
      "46/46 [==============================] - 1s 27ms/step - loss: 0.9134 - accuracy: 0.6058 - val_loss: 0.8763 - val_accuracy: 0.5904\n",
      "Epoch 6/20\n",
      "46/46 [==============================] - 1s 27ms/step - loss: 0.8215 - accuracy: 0.6116 - val_loss: 0.8120 - val_accuracy: 0.5808\n",
      "Epoch 7/20\n",
      "46/46 [==============================] - 1s 23ms/step - loss: 0.7657 - accuracy: 0.6459 - val_loss: 0.7712 - val_accuracy: 0.6205\n",
      "Epoch 8/20\n",
      "46/46 [==============================] - 1s 22ms/step - loss: 0.7227 - accuracy: 0.6616 - val_loss: 0.7556 - val_accuracy: 0.5959\n",
      "Epoch 9/20\n",
      "46/46 [==============================] - 1s 23ms/step - loss: 0.7056 - accuracy: 0.6702 - val_loss: 0.7410 - val_accuracy: 0.5973\n",
      "Epoch 10/20\n",
      "46/46 [==============================] - 1s 24ms/step - loss: 0.6855 - accuracy: 0.6760 - val_loss: 0.7478 - val_accuracy: 0.6110\n",
      "Epoch 11/20\n",
      "46/46 [==============================] - 1s 24ms/step - loss: 0.6803 - accuracy: 0.6757 - val_loss: 0.7249 - val_accuracy: 0.6315\n",
      "Epoch 12/20\n",
      "46/46 [==============================] - 1s 24ms/step - loss: 0.6497 - accuracy: 0.7175 - val_loss: 0.7213 - val_accuracy: 0.6315\n",
      "Epoch 13/20\n",
      "46/46 [==============================] - 1s 24ms/step - loss: 0.6332 - accuracy: 0.7196 - val_loss: 0.7266 - val_accuracy: 0.6247\n",
      "Epoch 14/20\n",
      "46/46 [==============================] - 1s 23ms/step - loss: 0.6258 - accuracy: 0.7377 - val_loss: 0.7171 - val_accuracy: 0.6384\n",
      "Epoch 15/20\n",
      "46/46 [==============================] - 1s 27ms/step - loss: 0.6184 - accuracy: 0.7467 - val_loss: 0.7770 - val_accuracy: 0.6151\n",
      "Epoch 16/20\n",
      "46/46 [==============================] - 1s 33ms/step - loss: 0.6107 - accuracy: 0.7422 - val_loss: 0.7494 - val_accuracy: 0.6301\n",
      "Epoch 17/20\n",
      "46/46 [==============================] - 1s 31ms/step - loss: 0.5820 - accuracy: 0.7734 - val_loss: 0.7291 - val_accuracy: 0.6507\n",
      "Epoch 18/20\n",
      "46/46 [==============================] - 2s 41ms/step - loss: 0.5731 - accuracy: 0.7875 - val_loss: 0.7238 - val_accuracy: 0.6671\n",
      "Epoch 19/20\n",
      "46/46 [==============================] - 1s 30ms/step - loss: 0.5574 - accuracy: 0.7943 - val_loss: 0.7459 - val_accuracy: 0.6671\n",
      "Epoch 20/20\n",
      "46/46 [==============================] - 4s 83ms/step - loss: 0.5589 - accuracy: 0.8053 - val_loss: 0.7651 - val_accuracy: 0.6521\n",
      "23/23 [==============================] - 3s 32ms/step\n",
      "              precision    recall  f1-score   support\n",
      "\n",
      "           0       0.64      0.73      0.68       369\n",
      "           1       0.67      0.57      0.62       361\n",
      "\n",
      "    accuracy                           0.65       730\n",
      "   macro avg       0.66      0.65      0.65       730\n",
      "weighted avg       0.65      0.65      0.65       730\n",
      "\n"
     ]
    },
    {
     "data": {
      "text/plain": [
       "<keras.src.engine.sequential.Sequential at 0x18b0aacac10>"
      ]
     },
     "execution_count": 53,
     "metadata": {},
     "output_type": "execute_result"
    }
   ],
   "source": [
    "train_bilstm_model(labels_near, processed_docs, model_fast)"
   ]
  },
  {
   "cell_type": "code",
   "execution_count": 1,
   "metadata": {},
   "outputs": [
    {
     "ename": "NameError",
     "evalue": "name 'train_bilstm_model' is not defined",
     "output_type": "error",
     "traceback": [
      "\u001b[1;31m---------------------------------------------------------------------------\u001b[0m",
      "\u001b[1;31mNameError\u001b[0m                                 Traceback (most recent call last)",
      "Cell \u001b[1;32mIn[1], line 1\u001b[0m\n\u001b[1;32m----> 1\u001b[0m \u001b[43mtrain_bilstm_model\u001b[49m(labels_mid, processed_docs, model_fast)\n",
      "\u001b[1;31mNameError\u001b[0m: name 'train_bilstm_model' is not defined"
     ]
    }
   ],
   "source": [
    "train_bilstm_model(labels_mid, processed_docs, model_fast)"
   ]
  },
  {
   "cell_type": "code",
   "execution_count": null,
   "metadata": {},
   "outputs": [
    {
     "name": "stdout",
     "output_type": "stream",
     "text": [
      "Epoch 1/20\n",
      "46/46 [==============================] - 6s 43ms/step - loss: 1.8383 - accuracy: 0.5022 - val_loss: 1.5695 - val_accuracy: 0.5521\n",
      "Epoch 2/20\n",
      "46/46 [==============================] - 1s 24ms/step - loss: 1.3921 - accuracy: 0.5701 - val_loss: 1.2472 - val_accuracy: 0.5671\n",
      "Epoch 3/20\n",
      "46/46 [==============================] - 1s 26ms/step - loss: 1.1324 - accuracy: 0.6006 - val_loss: 1.0464 - val_accuracy: 0.5740\n",
      "Epoch 4/20\n",
      "46/46 [==============================] - 1s 32ms/step - loss: 0.9670 - accuracy: 0.6205 - val_loss: 0.9469 - val_accuracy: 0.5808\n",
      "Epoch 5/20\n",
      "46/46 [==============================] - 1s 23ms/step - loss: 0.8704 - accuracy: 0.6346 - val_loss: 0.8530 - val_accuracy: 0.5918\n",
      "Epoch 6/20\n",
      "46/46 [==============================] - 1s 20ms/step - loss: 0.7953 - accuracy: 0.6603 - val_loss: 0.7970 - val_accuracy: 0.6301\n",
      "Epoch 7/20\n",
      "46/46 [==============================] - 1s 26ms/step - loss: 0.7499 - accuracy: 0.6733 - val_loss: 0.7704 - val_accuracy: 0.6288\n",
      "Epoch 8/20\n",
      "46/46 [==============================] - 1s 20ms/step - loss: 0.7071 - accuracy: 0.6894 - val_loss: 0.7540 - val_accuracy: 0.6274\n",
      "Epoch 9/20\n",
      "46/46 [==============================] - 1s 20ms/step - loss: 0.6765 - accuracy: 0.7172 - val_loss: 0.7366 - val_accuracy: 0.6370\n",
      "Epoch 10/20\n",
      "46/46 [==============================] - 1s 21ms/step - loss: 0.6513 - accuracy: 0.7316 - val_loss: 0.7575 - val_accuracy: 0.6274\n",
      "Epoch 11/20\n",
      "46/46 [==============================] - 1s 24ms/step - loss: 0.6224 - accuracy: 0.7463 - val_loss: 0.7480 - val_accuracy: 0.6356\n",
      "Epoch 12/20\n",
      "46/46 [==============================] - 1s 23ms/step - loss: 0.5892 - accuracy: 0.7785 - val_loss: 0.7738 - val_accuracy: 0.6397\n",
      "Epoch 13/20\n",
      "46/46 [==============================] - 1s 21ms/step - loss: 0.5638 - accuracy: 0.7933 - val_loss: 0.7697 - val_accuracy: 0.6370\n",
      "Epoch 14/20\n",
      "46/46 [==============================] - 1s 21ms/step - loss: 0.5255 - accuracy: 0.8210 - val_loss: 0.7545 - val_accuracy: 0.6658\n",
      "Epoch 15/20\n",
      "46/46 [==============================] - 1s 27ms/step - loss: 0.5057 - accuracy: 0.8324 - val_loss: 0.7551 - val_accuracy: 0.6479\n",
      "Epoch 16/20\n",
      "46/46 [==============================] - 1s 23ms/step - loss: 0.4758 - accuracy: 0.8498 - val_loss: 0.7836 - val_accuracy: 0.6562\n",
      "Epoch 17/20\n",
      "46/46 [==============================] - 1s 20ms/step - loss: 0.4692 - accuracy: 0.8495 - val_loss: 0.8344 - val_accuracy: 0.6384\n",
      "Epoch 18/20\n",
      "46/46 [==============================] - 1s 22ms/step - loss: 0.4738 - accuracy: 0.8516 - val_loss: 0.8712 - val_accuracy: 0.6562\n",
      "Epoch 19/20\n",
      "46/46 [==============================] - 1s 21ms/step - loss: 0.4323 - accuracy: 0.8810 - val_loss: 0.8213 - val_accuracy: 0.6630\n",
      "Epoch 20/20\n",
      "46/46 [==============================] - 1s 21ms/step - loss: 0.4000 - accuracy: 0.8934 - val_loss: 0.9401 - val_accuracy: 0.6671\n",
      "23/23 [==============================] - 1s 7ms/step\n",
      "              precision    recall  f1-score   support\n",
      "\n",
      "           0       0.65      0.84      0.73       396\n",
      "           1       0.71      0.46      0.56       334\n",
      "\n",
      "    accuracy                           0.67       730\n",
      "   macro avg       0.68      0.65      0.65       730\n",
      "weighted avg       0.68      0.67      0.65       730\n",
      "\n"
     ]
    },
    {
     "data": {
      "text/plain": [
       "<keras.src.engine.sequential.Sequential at 0x189add80fa0>"
      ]
     },
     "execution_count": 51,
     "metadata": {},
     "output_type": "execute_result"
    }
   ],
   "source": [
    "train_bilstm_model(labels_far, processed_docs, model_fast)"
   ]
  },
  {
   "cell_type": "code",
   "execution_count": null,
   "metadata": {},
   "outputs": [],
   "source": []
  }
 ],
 "metadata": {
  "kernelspec": {
   "display_name": ".env",
   "language": "python",
   "name": "python3"
  },
  "language_info": {
   "codemirror_mode": {
    "name": "ipython",
    "version": 3
   },
   "file_extension": ".py",
   "mimetype": "text/x-python",
   "name": "python",
   "nbconvert_exporter": "python",
   "pygments_lexer": "ipython3",
   "version": "3.8.10"
  }
 },
 "nbformat": 4,
 "nbformat_minor": 2
}
